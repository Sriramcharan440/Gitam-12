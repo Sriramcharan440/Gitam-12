{
  "nbformat": 4,
  "nbformat_minor": 0,
  "metadata": {
    "colab": {
      "name": "221910308015",
      "provenance": [],
      "collapsed_sections": [],
      "authorship_tag": "ABX9TyNFArnwSyQwk+kfkxqpe/qi",
      "include_colab_link": true
    },
    "kernelspec": {
      "name": "python3",
      "display_name": "Python 3"
    }
  },
  "cells": [
    {
      "cell_type": "markdown",
      "metadata": {
        "id": "view-in-github",
        "colab_type": "text"
      },
      "source": [
        "<a href=\"https://colab.research.google.com/github/Sriramcharan440/Gitam-12/blob/master/221910308015.ipynb\" target=\"_parent\"><img src=\"https://colab.research.google.com/assets/colab-badge.svg\" alt=\"Open In Colab\"/></a>"
      ]
    },
    {
      "cell_type": "code",
      "metadata": {
        "id": "pCsId8UXrZgD",
        "colab_type": "code",
        "colab": {
          "base_uri": "https://localhost:8080/",
          "height": 51
        },
        "outputId": "45f4d64b-b4b5-49cd-d573-1398cc7a711c"
      },
      "source": [
        " \n",
        "weight_kg=eval(input(\"Enter weight in kg:\"))\n",
        "weight_pound=weight_kg*2.2\n",
        "print(\"Weight in pounds:\",weight_pound)"
      ],
      "execution_count": null,
      "outputs": [
        {
          "output_type": "stream",
          "text": [
            "Enter weight in kg:4\n",
            "Weight in pounds: 8.8\n"
          ],
          "name": "stdout"
        }
      ]
    },
    {
      "cell_type": "code",
      "metadata": {
        "id": "HQ2utnsqr88f",
        "colab_type": "code",
        "colab": {
          "base_uri": "https://localhost:8080/",
          "height": 103
        },
        "outputId": "31a54990-4495-411e-9196-7dd1efb30009"
      },
      "source": [
        " \n",
        "a=eval(input(\"enter 1st number\"))\n",
        "b=eval(input(\"enter 2nd number\"))\n",
        "c=eval(input(\"enter 3rd number\"))\n",
        "total=a+b+c\n",
        "average=total/3\n",
        "print(\"Total=\",total)\n",
        "print(\"Average=\",average)"
      ],
      "execution_count": null,
      "outputs": [
        {
          "output_type": "stream",
          "text": [
            "enter 1st number2\n",
            "enter 2nd number4\n",
            "enter 3rd number8\n",
            "Total= 14\n",
            "Average= 4.666666666666667\n"
          ],
          "name": "stdout"
        }
      ]
    },
    {
      "cell_type": "code",
      "metadata": {
        "id": "BvpoIC2VsDxW",
        "colab_type": "code",
        "colab": {
          "base_uri": "https://localhost:8080/",
          "height": 51
        },
        "outputId": "233981ad-fb80-4657-88d2-eea1a15abb5a"
      },
      "source": [
        " \n",
        "x=eval(input(\"Enter a number\"))\n",
        "print(x,2*x,3*x,4*x,5*x,sep=\"---\")"
      ],
      "execution_count": null,
      "outputs": [
        {
          "output_type": "stream",
          "text": [
            "Enter a number7\n",
            "7---14---21---28---35\n"
          ],
          "name": "stdout"
        }
      ]
    },
    {
      "cell_type": "code",
      "metadata": {
        "id": "BBt9u016sJBa",
        "colab_type": "code",
        "colab": {
          "base_uri": "https://localhost:8080/",
          "height": 69
        },
        "outputId": "59429a71-9959-435b-de8b-29b20bea996d"
      },
      "source": [
        " \n",
        "x=eval(input(\"enter x:\"))\n",
        "y=eval(input(\"enter y:\"))\n",
        "print(abs(x-y)/(x+y))"
      ],
      "execution_count": null,
      "outputs": [
        {
          "output_type": "stream",
          "text": [
            "enter x:2\n",
            "enter y:5\n",
            "0.42857142857142855\n"
          ],
          "name": "stdout"
        }
      ]
    },
    {
      "cell_type": "code",
      "metadata": {
        "id": "zxGb0juAsW37",
        "colab_type": "code",
        "colab": {
          "base_uri": "https://localhost:8080/",
          "height": 51
        },
        "outputId": "3f465ead-9aa6-443a-95a8-01f303a23861"
      },
      "source": [
        " \n",
        "s=int(input(\"Enter no of seconds\"))\n",
        "minute=s//60\n",
        "sec=s%60\n",
        "print(minute,\"minutes\",sec,\"seconds\")"
      ],
      "execution_count": null,
      "outputs": [
        {
          "output_type": "stream",
          "text": [
            "Enter no of seconds150\n",
            "2 minutes 30 seconds\n"
          ],
          "name": "stdout"
        }
      ]
    },
    {
      "cell_type": "code",
      "metadata": {
        "id": "rrpxLLGhsgGn",
        "colab_type": "code",
        "colab": {
          "base_uri": "https://localhost:8080/",
          "height": 71
        },
        "outputId": "9f48427a-160d-4b4f-9d2d-e339888c6785"
      },
      "source": [
        " \n",
        "temp_centigrade=eval(input(\"Enter temperature in centigrade:\"))\n",
        "temp_fahrenheit=(9/5)*temp_centigrade+32\n",
        "print(\"Temperature in fahrenheit:\",temp_fahrenheit)"
      ],
      "execution_count": null,
      "outputs": [
        {
          "output_type": "stream",
          "text": [
            "Enter temperature in centigrade:25\n",
            "Temperature in fahrenheit: 77.0\n"
          ],
          "name": "stdout"
        }
      ]
    }
  ]
}